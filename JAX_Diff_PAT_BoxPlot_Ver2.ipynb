{
  "nbformat": 4,
  "nbformat_minor": 0,
  "metadata": {
    "colab": {
      "name": "JAX_Diff_PAT_BoxPlot_Ver2_for_public.ipynb",
      "provenance": [],
      "collapsed_sections": []
    },
    "kernelspec": {
      "display_name": "Python 3",
      "name": "python3"
    }
  },
  "cells": [
    {
      "cell_type": "code",
      "metadata": {
        "id": "ovwGREHnpprr"
      },
      "source": [
        "import jax.numpy as jnp\n",
        "import jax\n",
        "from jax import experimental\n",
        "from jax.experimental import optimizers\n",
        "from jax import grad, jit, vmap\n",
        "from jax import random\n",
        "from scipy.special import jv\n",
        "import os\n",
        "import datetime\n",
        "import time\n",
        "import sys\n",
        "\n",
        "import numpy as np\n",
        "import pandas as pd\n",
        "import time\n",
        "import math\n",
        "from jax import device_put\n",
        "\n",
        "# Manuscript: \"Target Acoustic Field and Transducer State Optimization using Diff-PAT\"\n",
        "# Authors: Tatsuki Fushimi, Kenta Yamamoto, Yoichi Ochiai\n",
        "# Corresponding email: tfushimi@slis.tsukuba.ac.jp\n",
        "# JAX version 0.2.17"
      ],
      "execution_count": null,
      "outputs": []
    },
    {
      "cell_type": "code",
      "metadata": {
        "colab": {
          "base_uri": "https://localhost:8080/"
        },
        "id": "ZTpG44WGO7yt",
        "outputId": "8629a4cb-5d05-4576-d565-5cf2df807283"
      },
      "source": [
        "print(jax.__version__)"
      ],
      "execution_count": null,
      "outputs": [
        {
          "output_type": "stream",
          "text": [
            "0.2.17\n"
          ],
          "name": "stdout"
        }
      ]
    },
    {
      "cell_type": "code",
      "metadata": {
        "id": "5YkxYlZ2NpS8"
      },
      "source": [
        "import os\n",
        "if not os.path.exists('results'):\n",
        "    os.makedirs('results')"
      ],
      "execution_count": null,
      "outputs": []
    },
    {
      "cell_type": "code",
      "metadata": {
        "id": "RvWTa8VL-Ze4"
      },
      "source": [
        "# Setup Transducer Array\n",
        "N=16 # number of transducer assuming square array\n",
        "pitch=0.0105 # pitch of transducer array\n",
        "size=[N,N] \n",
        "\n",
        "# Generate transducer array of arbitary size N.\n",
        "tra_x = np.array([ (i % N - (N//2-0.5))*pitch for i in range(N * N)]).reshape(N, N)\n",
        "tra_y = tra_x.T\n",
        "tra_z = np.full((N,N), 0.0)\n",
        "\n",
        "#Transducer Settings\n",
        "P0=1.0 # Transducer Amplitude at 1 m\n",
        "l_ambda = 346.0 / 40000.0 # wavelength\n",
        "k = 2.0*math.pi/l_ambda # wavenumber\n",
        "r0 = 0.005 # Radius of transducer\n",
        "\n",
        "# MAX number of iteration for the optimizer\n",
        "dropping_threshold = 1000; \n",
        "\n",
        "# Preamble for optimizer specfication\n",
        "settings_t = [1,2,3]\n",
        "transducer_side = ['A', 'B','C']\n",
        "target_side = ['i','ii','iii']\n",
        "N_list = [2, 4]\n",
        "\n",
        "# Export transducer array if needed. \n",
        "if False:\n",
        "  np.savetxt('transducer_x.csv', np.array( [tra_x.T.ravel()] ).ravel(), delimiter=',')\n",
        "  np.savetxt('transducer_y.csv', np.array( [tra_y.T.ravel()] ).ravel(), delimiter=',')\n",
        "  np.savetxt('transducer_z.csv', np.array( [tra_z.T.ravel()] ).ravel(), delimiter=',')"
      ],
      "execution_count": null,
      "outputs": []
    },
    {
      "cell_type": "code",
      "metadata": {
        "id": "1o2uPqOCrKPG"
      },
      "source": [
        "# Pre-calculating propagation parts. This part is invariant during optimization, as long as the focus point does not change. \n",
        "def prop_matrix(array_x, array_y, array_z, x_p, y_p, z_p, P0, k, r0):\n",
        "  prop = []\n",
        "  for xi in range(point_num):\n",
        "    dist_map = jnp.sqrt( jnp.power((array_x - x_p[xi]), 2) + jnp.power((array_y - y_p[xi]), 2) + jnp.power((array_z - z_p[xi]), 2) )\n",
        "\n",
        "    sin_alpha_map = jnp.sqrt( (jnp.power((array_x - x_p[xi]), 2) + jnp.power((array_y - y_p[xi]), 2)) ) / dist_map\n",
        "    sin_alpha_map = jnp.where(sin_alpha_map == 0, jax.numpy.finfo(jnp.float64).tiny, sin_alpha_map)\n",
        "\n",
        "    amplitude_map = ( 2 * jv(1, k*r0*sin_alpha_map) * P0 / (k*r0*sin_alpha_map*dist_map) )\n",
        "    prop.append( jax.lax.complex( amplitude_map * jnp.cos(k*dist_map), amplitude_map * jnp.sin(k*dist_map) ) )\n",
        "  \n",
        "  prop = device_put(jnp.array(prop))\n",
        "\n",
        "  return prop"
      ],
      "execution_count": null,
      "outputs": []
    },
    {
      "cell_type": "code",
      "metadata": {
        "id": "pdlZ7zT-naDq"
      },
      "source": [
        "# Three types of propagation mode, A - Phase, B - Amplitude, C - Phase and Amplitude\n",
        "@jit\n",
        "def Propagation_A(Tr):\n",
        "  part_A = Tr[0]\n",
        "  trans_amplitude = jax.lax.complex(jnp.ones(size), jnp.zeros(size))\n",
        "  trans_phase_copmlex = jax.lax.complex(jnp.cos(part_A), jnp.sin(part_A))\n",
        "  return trans_amplitude, trans_phase_copmlex\n",
        "\n",
        "@jit\n",
        "def Propagation_B(Tr):\n",
        "  part_A = Tr[0]\n",
        "  part_A = jnp.abs(part_A)\n",
        "  part_A = part_A / jnp.max(part_A)\n",
        "  trans_amplitude = jax.lax.complex(part_A, jnp.zeros(size))\n",
        "  trans_phase_copmlex = jax.lax.complex(jnp.ones(size), jnp.zeros(size))\n",
        "  return trans_amplitude, trans_phase_copmlex\n",
        "\n",
        "@jit\n",
        "def Propagation_C(Tr):\n",
        "  part_A = Tr[0]\n",
        "  part_B = Tr[1]\n",
        "\n",
        "  tr_set = jax.lax.complex(part_A, part_B)\n",
        "  temp_amp = jnp.abs(tr_set);\n",
        "  temp_amp = temp_amp / jnp.max(temp_amp)\n",
        "    \n",
        "  trans_amplitude = jax.lax.complex(temp_amp, jnp.zeros(size))\n",
        "  trans_phase = jnp.angle(tr_set)\n",
        "  trans_phase_copmlex = jax.lax.complex(jnp.cos(trans_phase), jnp.sin(trans_phase))\n",
        "  return trans_amplitude, trans_phase_copmlex\n",
        "\n",
        "# Calculate Acoustic Pressure Field at the target point, output amplitude and phase. \n",
        "@jit \n",
        "def calculate_pressure(trans_amplitude, trans_phase_copmlex, transducer_prop, i):\n",
        "  point_Re = jnp.sum(jnp.real(trans_phase_copmlex) * jnp.real(trans_amplitude*transducer_prop[i]) - jnp.imag(trans_phase_copmlex) * jnp.imag(trans_amplitude*transducer_prop[i]))\n",
        "  point_Im = jnp.sum(jnp.real(trans_phase_copmlex) * jnp.imag(trans_amplitude*transducer_prop[i]) + jnp.imag(trans_phase_copmlex) * jnp.real(trans_amplitude*transducer_prop[i]))\n",
        "  point_amp = jnp.sqrt( point_Re ** 2 + point_Im ** 2 )\n",
        "  point_phase = jnp.angle(jax.lax.complex(point_Re, point_Im))\n",
        "  return point_amp, point_phase\n",
        "\n",
        "# Loss function depending on the target point state. i - Phase, ii - Amplitude, iii - Phase and Amplitude\n",
        "@jit\n",
        "def ErrFunc_i(point_phase, target_pha, i):\n",
        "  err = (jnp.cos(point_phase) - jnp.cos(target_pha[i]))**2 + (jnp.sin(point_phase) - jnp.sin(target_pha[i]))**2\n",
        "  return err\n",
        "\n",
        "@jit\n",
        "def ErrFunc_ii(point_amp, target_amp, i):\n",
        "  err = (point_amp - target_amp[i])**2\n",
        "  return err\n",
        "\n",
        "@jit\n",
        "def ErrFunc_iii(point_amp, point_phase, target_amp, target_pha, i):\n",
        "  err = (point_amp*jnp.cos(point_phase) - target_amp[i]*jnp.cos(target_pha[i]))**2 + (point_amp*jnp.sin(point_phase) - target_amp[i]*jnp.sin(target_pha[i]))**2\n",
        "  return err"
      ],
      "execution_count": null,
      "outputs": []
    },
    {
      "cell_type": "markdown",
      "metadata": {
        "id": "59ltdBRICRfV"
      },
      "source": [
        "From here, each combination of optimizer functions are defined. This is not ideal programming, but JAX does not prefer conditionals during automatic differentiation. "
      ]
    },
    {
      "cell_type": "code",
      "metadata": {
        "id": "KQTgPb1qyZWi"
      },
      "source": [
        "@jit\n",
        "def loss_func_Ai(Tr, transducer_prop, target_pha):\n",
        "    trans_amplitude, trans_phase_copmlex = Propagation_A(Tr)\n",
        "    loss = 0\n",
        "    # Evaluating Loss Function\n",
        "    for i in range(point_num):\n",
        "      point_amp, point_phase = calculate_pressure(trans_amplitude, trans_phase_copmlex, transducer_prop, i)\n",
        "\n",
        "      err = ErrFunc_i(point_phase, target_pha, i)\n",
        "      loss += (1/point_num)*(err)\n",
        "    return loss\n",
        "\n",
        "@jit\n",
        "def step_Ai(step, opt_state, transducer_prop, target_pha):\n",
        "  value, grads = jax.value_and_grad(loss_func_Ai)(get_params(opt_state), transducer_prop, target_pha)\n",
        "  opt_state = opt_update(step, grads, opt_state)\n",
        "  return value, opt_state"
      ],
      "execution_count": null,
      "outputs": []
    },
    {
      "cell_type": "code",
      "metadata": {
        "id": "JsRaL7iHye6w"
      },
      "source": [
        "@jit\n",
        "def loss_func_Aii(Tr, transducer_prop, target_amp):\n",
        "    trans_amplitude, trans_phase_copmlex = Propagation_A(Tr)\n",
        "    loss = 0\n",
        "    # Evaluating Loss Function\n",
        "    for i in range(point_num):\n",
        "      point_amp, point_phase = calculate_pressure(trans_amplitude, trans_phase_copmlex, transducer_prop, i)\n",
        "\n",
        "      err = ErrFunc_ii(point_amp, target_amp, i)\n",
        "      loss += (1/point_num)*(err)\n",
        "    return loss\n",
        "@jit\n",
        "def step_Aii(step, opt_state, transducer_prop, target_amp):\n",
        "  value, grads = jax.value_and_grad(loss_func_Aii)(get_params(opt_state), transducer_prop, target_amp)\n",
        "  opt_state = opt_update(step, grads, opt_state)\n",
        "  return value, opt_state"
      ],
      "execution_count": null,
      "outputs": []
    },
    {
      "cell_type": "code",
      "metadata": {
        "id": "3okXefMOyhnN"
      },
      "source": [
        "@jit\n",
        "def loss_func_Aiii(Tr, transducer_prop, target_amp, target_pha):\n",
        "    trans_amplitude, trans_phase_copmlex = Propagation_A(Tr)\n",
        "    loss = 0\n",
        "    # Evaluating Loss Function\n",
        "    for i in range(point_num):\n",
        "      point_amp, point_phase = calculate_pressure(trans_amplitude, trans_phase_copmlex, transducer_prop, i)\n",
        "\n",
        "      err = ErrFunc_iii(point_amp, point_phase, target_amp, target_pha, i)\n",
        "      loss += (1/point_num)*(err)\n",
        "    return loss\n",
        "\n",
        "@jit\n",
        "def step_Aiii(step, opt_state, transducer_prop, target_amp, target_pha):\n",
        "  value, grads = jax.value_and_grad(loss_func_Aiii)(get_params(opt_state), transducer_prop, target_amp, target_pha)\n",
        "  opt_state = opt_update(step, grads, opt_state)\n",
        "  return value, opt_state"
      ],
      "execution_count": null,
      "outputs": []
    },
    {
      "cell_type": "code",
      "metadata": {
        "id": "dQ2JsJ0Ayo1g"
      },
      "source": [
        "@jit\n",
        "def loss_func_Bi(Tr, transducer_prop, target_pha):\n",
        "    trans_amplitude, trans_phase_copmlex = Propagation_B(Tr)\n",
        "    loss = 0\n",
        "    # Evaluating Loss Function\n",
        "    for i in range(point_num):\n",
        "      point_amp, point_phase = calculate_pressure(trans_amplitude, trans_phase_copmlex, transducer_prop, i)\n",
        "\n",
        "      err = ErrFunc_i(point_phase, target_pha, i)\n",
        "      loss += (1/point_num)*(err)\n",
        "    return loss\n",
        "@jit\n",
        "def step_Bi(step, opt_state, transducer_prop, target_pha):\n",
        "  value, grads = jax.value_and_grad(loss_func_Bi)(get_params(opt_state), transducer_prop, target_pha)\n",
        "  opt_state = opt_update(step, grads, opt_state)\n",
        "  return value, opt_state"
      ],
      "execution_count": null,
      "outputs": []
    },
    {
      "cell_type": "code",
      "metadata": {
        "id": "LbiNTY-oyyfI"
      },
      "source": [
        "@jit\n",
        "def loss_func_Bii(Tr, transducer_prop, target_amp):\n",
        "    trans_amplitude, trans_phase_copmlex = Propagation_B(Tr)\n",
        "    loss = 0\n",
        "    # Evaluating Loss Function\n",
        "    for i in range(point_num):\n",
        "      point_amp, point_phase = calculate_pressure(trans_amplitude, trans_phase_copmlex, transducer_prop, i)\n",
        "\n",
        "      err = ErrFunc_ii(point_amp, target_amp, i)\n",
        "      loss += (1/point_num)*(err)\n",
        "    return loss\n",
        "\n",
        "@jit\n",
        "def step_Bii(step, opt_state, transducer_prop, target_amp):\n",
        "  value, grads = jax.value_and_grad(loss_func_Bii)(get_params(opt_state), transducer_prop, target_amp)\n",
        "  opt_state = opt_update(step, grads, opt_state)\n",
        "  return value, opt_state"
      ],
      "execution_count": null,
      "outputs": []
    },
    {
      "cell_type": "code",
      "metadata": {
        "id": "cIv5MFRyy1t0"
      },
      "source": [
        "@jit\n",
        "def loss_func_Biii(Tr, transducer_prop, target_amp, target_pha):\n",
        "    trans_amplitude, trans_phase_copmlex = Propagation_B(Tr)\n",
        "    loss = 0\n",
        "    # Evaluating Loss Function\n",
        "    for i in range(point_num):\n",
        "      point_amp, point_phase = calculate_pressure(trans_amplitude, trans_phase_copmlex, transducer_prop, i)\n",
        "\n",
        "      err = ErrFunc_iii(point_amp, point_phase, target_amp, target_pha, i)\n",
        "      loss += (1/point_num)*(err)\n",
        "    return loss\n",
        "@jit\n",
        "def step_Biii(step, opt_state, transducer_prop, target_amp, target_pha):\n",
        "  value, grads = jax.value_and_grad(loss_func_Biii)(get_params(opt_state), transducer_prop, target_amp, target_pha)\n",
        "  opt_state = opt_update(step, grads, opt_state)\n",
        "  return value, opt_state"
      ],
      "execution_count": null,
      "outputs": []
    },
    {
      "cell_type": "code",
      "metadata": {
        "id": "fEJe6rJsy4j1"
      },
      "source": [
        "@jit\n",
        "def loss_func_Ci(Tr, transducer_prop, target_pha):\n",
        "    trans_amplitude, trans_phase_copmlex = Propagation_C(Tr)\n",
        "    loss = 0\n",
        "    # Evaluating Loss Function\n",
        "    for i in range(point_num):\n",
        "      point_amp, point_phase = calculate_pressure(trans_amplitude, trans_phase_copmlex, transducer_prop, i)\n",
        "\n",
        "      err = ErrFunc_i(point_phase, target_pha, i)\n",
        "      loss += (1/point_num)*(err)\n",
        "    return loss\n",
        "@jit\n",
        "def step_Ci(step, opt_state, transducer_prop, target_pha):\n",
        "  value, grads = jax.value_and_grad(loss_func_Ci)(get_params(opt_state), transducer_prop, target_pha)\n",
        "  opt_state = opt_update(step, grads, opt_state)\n",
        "  return value, opt_state"
      ],
      "execution_count": null,
      "outputs": []
    },
    {
      "cell_type": "code",
      "metadata": {
        "id": "DzONQDx9y-rS"
      },
      "source": [
        "@jit\n",
        "def loss_func_Cii(Tr, transducer_prop, target_amp):\n",
        "    trans_amplitude, trans_phase_copmlex = Propagation_C(Tr)\n",
        "    loss = 0\n",
        "    # Evaluating Loss Function\n",
        "    for i in range(point_num):\n",
        "      point_amp, point_phase = calculate_pressure(trans_amplitude, trans_phase_copmlex, transducer_prop, i)\n",
        "\n",
        "      err = ErrFunc_ii(point_amp, target_amp, i)\n",
        "      loss += (1/point_num)*(err)\n",
        "    return loss\n",
        "    \n",
        "@jit\n",
        "def step_Cii(step, opt_state, transducer_prop, target_amp):\n",
        "  value, grads = jax.value_and_grad(loss_func_Cii)(get_params(opt_state), transducer_prop, target_amp)\n",
        "  opt_state = opt_update(step, grads, opt_state)\n",
        "  return value, opt_state"
      ],
      "execution_count": null,
      "outputs": []
    },
    {
      "cell_type": "code",
      "metadata": {
        "id": "hEnViAnSzBo8"
      },
      "source": [
        "@jit\n",
        "def loss_func_Ciii(Tr, transducer_prop, target_amp, target_pha):\n",
        "    trans_amplitude, trans_phase_copmlex = Propagation_C(Tr)\n",
        "    loss = 0\n",
        "    # Evaluating Loss Function\n",
        "    for i in range(point_num):\n",
        "      point_amp, point_phase = calculate_pressure(trans_amplitude, trans_phase_copmlex, transducer_prop, i)\n",
        "\n",
        "      err = ErrFunc_iii(point_amp, point_phase, target_amp, target_pha, i)\n",
        "      loss += (1/point_num)*(err)\n",
        "    return loss\n",
        "\n",
        "@jit\n",
        "def step_Ciii(step, opt_state, transducer_prop, target_amp, target_pha):\n",
        "  value, grads = jax.value_and_grad(loss_func_Ciii)(get_params(opt_state), transducer_prop, target_amp, target_pha)\n",
        "  opt_state = opt_update(step, grads, opt_state)\n",
        "  return value, opt_state"
      ],
      "execution_count": null,
      "outputs": []
    },
    {
      "cell_type": "markdown",
      "metadata": {
        "id": "cLkAfufqCe18"
      },
      "source": [
        "Main loop for the optimizer. "
      ]
    },
    {
      "cell_type": "code",
      "metadata": {
        "colab": {
          "base_uri": "https://localhost:8080/"
        },
        "id": "ZVnlygIJv-1s",
        "outputId": "94a495db-e51f-49ee-93b3-25d032bbdf0c"
      },
      "source": [
        "# Main Loop\n",
        "for nn in range(len(N_list)): \n",
        "  # Load Targets\n",
        "  point_num = N_list[nn]\n",
        "  x_p_list = pd.read_csv('Target_X_N_' + str(point_num) + '.csv', header=None)\n",
        "  x_p_list = x_p_list.values\n",
        "  y_p_list = pd.read_csv('Target_Y_N_' + str(point_num) + '.csv', header=None)\n",
        "  y_p_list = y_p_list.values\n",
        "  z_p_list = pd.read_csv('Target_Z_N_' + str(point_num) + '.csv', header=None)\n",
        "  z_p_list = z_p_list.values\n",
        "\n",
        "  number_of_sample = x_p_list.shape[1]\n",
        "\n",
        "  target_amp_list = pd.read_csv('Target_Amp_N_' + str(point_num) + '.csv', header=None)\n",
        "  target_amp_list = target_amp_list.values\n",
        "\n",
        "  target_pha_list = pd.read_csv('Target_Phase_N_' + str(point_num) + '.csv', header=None)\n",
        "  target_pha_list = target_pha_list.values\n",
        "\n",
        "  for ii in range(len(settings_t)):\n",
        "    for jj in range(len(settings_t)):\n",
        "      rng = np.random.default_rng(2021) # For reproducibility\n",
        "      transducer_side_settings = settings_t[ii] # 1 for Phase, 2 for Amplitude, 3 for amplitude and phase\n",
        "      target_plane_settings = settings_t[jj] # 1 for Phase, 2 for Amplitude, 3 for amplitude and phase\n",
        "      loss_all = []\n",
        "      amplitude_all = []\n",
        "      phase_all = []\n",
        "      for kk in range(1000): #number of samples\n",
        "        x_p = x_p_list[:, kk]\n",
        "        y_p = y_p_list[:, kk]\n",
        "        z_p = z_p_list[:, kk]\n",
        "        \n",
        "        transducer_prop = prop_matrix(tra_x, tra_y, tra_z, x_p, y_p, z_p, P0, k, r0)\n",
        "\n",
        "        # Initialize tau\n",
        "        target_amp=target_amp_list[:, kk]\n",
        "        target_pha=target_pha_list[:, kk]\n",
        "\n",
        "        Tr_A = rng.random((size[0], size[1]))\n",
        "        if transducer_side_settings == 1:\n",
        "          Tr_A = rng.random((size[0], size[1])) \n",
        "\n",
        "        if transducer_side_settings == 3:\n",
        "          Tr_B = rng.random((size[0], size[1]))\n",
        "          Tr = [Tr_A, Tr_B]\n",
        "        else:\n",
        "          Tr = [Tr_A]\n",
        "\n",
        "        # Initialize Optimizer\n",
        "        opt_init, opt_update, get_params = jax.experimental.optimizers.adam(0.1, b1=0.9, b2=0.999, eps=1e-08)\n",
        "        opt_state = opt_init(Tr)\n",
        "        loss_list = []\n",
        "        for st in range(dropping_threshold): # Bit messy to list the combination in if-loop, but JAX did not like conditionals passed on. \n",
        "          # Making static arguments inputs may improve the situation... \n",
        "          if transducer_side_settings == 1:\n",
        "            if target_plane_settings == 1:\n",
        "              value, opt_state = step_Ai(st, opt_state, transducer_prop, target_pha)\n",
        "            elif target_plane_settings == 2:\n",
        "              value, opt_state = step_Aii(st, opt_state, transducer_prop, target_amp)\n",
        "            elif target_plane_settings == 3:\n",
        "              value, opt_state = step_Aiii(st, opt_state, transducer_prop, target_amp, target_pha)\n",
        "          elif transducer_side_settings == 2:\n",
        "            if target_plane_settings == 1:\n",
        "              value, opt_state = step_Bi(st, opt_state, transducer_prop, target_pha)\n",
        "            elif target_plane_settings == 2:\n",
        "              value, opt_state = step_Bii(st, opt_state, transducer_prop, target_amp)\n",
        "            elif target_plane_settings == 3:\n",
        "              value, opt_state = step_Biii(st, opt_state, transducer_prop, target_amp, target_pha)\n",
        "          elif transducer_side_settings == 3:\n",
        "            if target_plane_settings == 1:\n",
        "              value, opt_state = step_Ci(st, opt_state, transducer_prop, target_pha)\n",
        "            elif target_plane_settings == 2:\n",
        "              value, opt_state = step_Cii(st, opt_state, transducer_prop, target_amp)\n",
        "            elif target_plane_settings == 3:\n",
        "              value, opt_state = step_Ciii(st, opt_state, transducer_prop, target_amp, target_pha)\n",
        "          loss_list.append(value)\n",
        "          \n",
        "        # Exporting Data\n",
        "        Tr = get_params(opt_state)    \n",
        "        if transducer_side_settings == 1:\n",
        "          part_A = Tr[0]\n",
        "          amplitude = jnp.ones(size)\n",
        "          phase = part_A\n",
        "        elif transducer_side_settings == 2:\n",
        "          part_A = Tr[0]\n",
        "          part_A = jnp.abs(part_A)\n",
        "          part_A = part_A / jnp.max(part_A)\n",
        "          amplitude = jnp.abs(part_A)\n",
        "          phase = jnp.zeros(size)\n",
        "        elif transducer_side_settings == 3:\n",
        "          part_A = Tr[0]\n",
        "          part_B = Tr[1]\n",
        "          tr_set = jax.lax.complex(part_A, part_B)\n",
        "          temp_amp = jnp.abs(tr_set);\n",
        "          temp_amp = temp_amp / jnp.max(temp_amp) \n",
        "          amplitude = temp_amp\n",
        "          phase = jnp.angle(tr_set)\n",
        "\n",
        "        amplitude_exports = np.array(amplitude)\n",
        "        phase_exports = np.array(phase)\n",
        "\n",
        "        loss_all.append(np.array(loss_list))\n",
        "        amplitude_all.append(np.array(amplitude_exports.T.ravel()).ravel())\n",
        "        phase_all.append(np.array(phase_exports.T.ravel()).ravel())\n",
        "\n",
        "      phase_1d_arr = np.array( phase_all )\n",
        "      amp_1d_arr = np.array( amplitude_all )\n",
        "      loss_1d_arr = np.array( loss_all )\n",
        "      np.savetxt('results/Loss_exports_N_' + str(point_num) + '_Trans_' + transducer_side[ii] + '_Target_'+ target_side[jj] + '_settings.csv', loss_1d_arr, delimiter=',')\n",
        "      np.savetxt('results/Phase_exports_N_' + str(point_num) + '_Trans_' + transducer_side[ii] + '_Target_'+ target_side[jj] + '_settings.csv', phase_1d_arr, delimiter=',')\n",
        "      np.savetxt('results/Amplitude_exports_N_' + str(point_num) + '_Trans_' + transducer_side[ii] + '_Target_'+ target_side[jj] + '_settings.csv', amp_1d_arr, delimiter=',')\n",
        "      print('----- N_' + str(point_num) + '_Trans_' + transducer_side[ii] + '_Target_'+ target_side[jj] + ' COMPLETED -----')"
      ],
      "execution_count": null,
      "outputs": [
        {
          "output_type": "stream",
          "text": [
            "----- N_2_Trans_A_Target_i COMPLETED -----\n",
            "----- N_2_Trans_A_Target_ii COMPLETED -----\n",
            "----- N_2_Trans_A_Target_iii COMPLETED -----\n",
            "----- N_2_Trans_B_Target_i COMPLETED -----\n",
            "----- N_2_Trans_B_Target_ii COMPLETED -----\n",
            "----- N_2_Trans_B_Target_iii COMPLETED -----\n",
            "----- N_2_Trans_C_Target_i COMPLETED -----\n",
            "----- N_2_Trans_C_Target_ii COMPLETED -----\n",
            "----- N_2_Trans_C_Target_iii COMPLETED -----\n",
            "----- N_4_Trans_A_Target_i COMPLETED -----\n",
            "----- N_4_Trans_A_Target_ii COMPLETED -----\n",
            "----- N_4_Trans_A_Target_iii COMPLETED -----\n",
            "----- N_4_Trans_B_Target_i COMPLETED -----\n",
            "----- N_4_Trans_B_Target_ii COMPLETED -----\n",
            "----- N_4_Trans_B_Target_iii COMPLETED -----\n",
            "----- N_4_Trans_C_Target_i COMPLETED -----\n",
            "----- N_4_Trans_C_Target_ii COMPLETED -----\n",
            "----- N_4_Trans_C_Target_iii COMPLETED -----\n"
          ],
          "name": "stdout"
        }
      ]
    },
    {
      "cell_type": "code",
      "metadata": {
        "id": "AETaIB52wW6C",
        "colab": {
          "base_uri": "https://localhost:8080/"
        },
        "outputId": "718b0be4-11d7-4161-83ed-bc137bc81b35"
      },
      "source": [
        "!zip -r /content/colab_results.zip /content/results/"
      ],
      "execution_count": null,
      "outputs": [
        {
          "output_type": "stream",
          "text": [
            "  adding: content/results/ (stored 0%)\n",
            "  adding: content/results/Phase_exports_N_4_Trans_A_Target_i_settings.csv (deflated 59%)\n",
            "  adding: content/results/Loss_exports_N_2_Trans_A_Target_i_settings.csv (deflated 85%)\n",
            "  adding: content/results/Amplitude_exports_N_2_Trans_C_Target_iii_settings.csv (deflated 61%)\n",
            "  adding: content/results/Amplitude_exports_N_2_Trans_B_Target_i_settings.csv (deflated 59%)\n",
            "  adding: content/results/Loss_exports_N_4_Trans_B_Target_i_settings.csv (deflated 81%)\n",
            "  adding: content/results/Phase_exports_N_4_Trans_C_Target_ii_settings.csv (deflated 60%)\n",
            "  adding: content/results/Loss_exports_N_2_Trans_B_Target_ii_settings.csv (deflated 80%)\n",
            "  adding: content/results/Loss_exports_N_4_Trans_B_Target_ii_settings.csv (deflated 77%)\n",
            "  adding: content/results/Phase_exports_N_2_Trans_B_Target_ii_settings.csv (deflated 100%)\n",
            "  adding: content/results/Phase_exports_N_2_Trans_C_Target_iii_settings.csv (deflated 61%)\n",
            "  adding: content/results/Phase_exports_N_2_Trans_A_Target_iii_settings.csv (deflated 61%)\n",
            "  adding: content/results/Loss_exports_N_2_Trans_C_Target_ii_settings.csv (deflated 74%)\n",
            "  adding: content/results/Phase_exports_N_4_Trans_C_Target_i_settings.csv (deflated 60%)\n",
            "  adding: content/results/Phase_exports_N_2_Trans_B_Target_i_settings.csv (deflated 100%)\n",
            "  adding: content/results/Loss_exports_N_2_Trans_B_Target_iii_settings.csv (deflated 81%)\n",
            "  adding: content/results/Loss_exports_N_2_Trans_A_Target_iii_settings.csv (deflated 76%)\n",
            "  adding: content/results/Loss_exports_N_2_Trans_C_Target_i_settings.csv (deflated 86%)\n",
            "  adding: content/results/Loss_exports_N_2_Trans_C_Target_iii_settings.csv (deflated 63%)\n",
            "  adding: content/results/Phase_exports_N_2_Trans_B_Target_iii_settings.csv (deflated 100%)\n",
            "  adding: content/results/Amplitude_exports_N_2_Trans_A_Target_ii_settings.csv (deflated 100%)\n",
            "  adding: content/results/Amplitude_exports_N_2_Trans_C_Target_ii_settings.csv (deflated 61%)\n",
            "  adding: content/results/Phase_exports_N_2_Trans_A_Target_ii_settings.csv (deflated 60%)\n",
            "  adding: content/results/Loss_exports_N_4_Trans_C_Target_iii_settings.csv (deflated 57%)\n",
            "  adding: content/results/Phase_exports_N_2_Trans_C_Target_i_settings.csv (deflated 60%)\n",
            "  adding: content/results/Phase_exports_N_2_Trans_A_Target_i_settings.csv (deflated 59%)\n",
            "  adding: content/results/Amplitude_exports_N_4_Trans_B_Target_ii_settings.csv (deflated 58%)\n",
            "  adding: content/results/Phase_exports_N_4_Trans_A_Target_iii_settings.csv (deflated 60%)\n",
            "  adding: content/results/Phase_exports_N_4_Trans_B_Target_i_settings.csv (deflated 100%)\n",
            "  adding: content/results/Loss_exports_N_2_Trans_A_Target_ii_settings.csv (deflated 87%)\n",
            "  adding: content/results/Amplitude_exports_N_2_Trans_A_Target_i_settings.csv (deflated 100%)\n",
            "  adding: content/results/Phase_exports_N_4_Trans_A_Target_ii_settings.csv (deflated 59%)\n",
            "  adding: content/results/Amplitude_exports_N_4_Trans_C_Target_iii_settings.csv (deflated 60%)\n",
            "  adding: content/results/Amplitude_exports_N_2_Trans_B_Target_iii_settings.csv (deflated 58%)\n",
            "  adding: content/results/Amplitude_exports_N_2_Trans_B_Target_ii_settings.csv (deflated 58%)\n",
            "  adding: content/results/Loss_exports_N_4_Trans_C_Target_i_settings.csv (deflated 82%)\n",
            "  adding: content/results/Loss_exports_N_2_Trans_B_Target_i_settings.csv (deflated 86%)\n",
            "  adding: content/results/Amplitude_exports_N_4_Trans_A_Target_ii_settings.csv (deflated 100%)\n",
            "  adding: content/results/Phase_exports_N_4_Trans_B_Target_iii_settings.csv (deflated 100%)\n",
            "  adding: content/results/Phase_exports_N_4_Trans_B_Target_ii_settings.csv (deflated 100%)\n",
            "  adding: content/results/Amplitude_exports_N_4_Trans_B_Target_i_settings.csv (deflated 58%)\n",
            "  adding: content/results/Loss_exports_N_4_Trans_A_Target_ii_settings.csv (deflated 82%)\n",
            "  adding: content/results/Loss_exports_N_4_Trans_B_Target_iii_settings.csv (deflated 79%)\n",
            "  adding: content/results/Amplitude_exports_N_4_Trans_C_Target_i_settings.csv (deflated 60%)\n",
            "  adding: content/results/Phase_exports_N_2_Trans_C_Target_ii_settings.csv (deflated 61%)\n",
            "  adding: content/results/Loss_exports_N_4_Trans_A_Target_i_settings.csv (deflated 80%)\n",
            "  adding: content/results/Amplitude_exports_N_4_Trans_A_Target_i_settings.csv (deflated 100%)\n",
            "  adding: content/results/Amplitude_exports_N_4_Trans_C_Target_ii_settings.csv (deflated 60%)\n",
            "  adding: content/results/Phase_exports_N_4_Trans_C_Target_iii_settings.csv (deflated 61%)\n",
            "  adding: content/results/Amplitude_exports_N_4_Trans_A_Target_iii_settings.csv (deflated 100%)\n",
            "  adding: content/results/Amplitude_exports_N_2_Trans_A_Target_iii_settings.csv (deflated 100%)\n",
            "  adding: content/results/Loss_exports_N_4_Trans_C_Target_ii_settings.csv (deflated 80%)\n",
            "  adding: content/results/Amplitude_exports_N_2_Trans_C_Target_i_settings.csv (deflated 60%)\n",
            "  adding: content/results/Loss_exports_N_4_Trans_A_Target_iii_settings.csv (deflated 58%)\n",
            "  adding: content/results/Amplitude_exports_N_4_Trans_B_Target_iii_settings.csv (deflated 58%)\n"
          ],
          "name": "stdout"
        }
      ]
    }
  ]
}