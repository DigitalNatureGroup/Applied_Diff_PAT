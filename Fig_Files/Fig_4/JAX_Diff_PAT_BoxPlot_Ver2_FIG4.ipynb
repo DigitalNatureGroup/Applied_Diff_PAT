{
  "nbformat": 4,
  "nbformat_minor": 0,
  "metadata": {
    "colab": {
      "name": "JAX_Diff-PAT_BoxPlot_Ver2_FIG3",
      "provenance": [],
      "collapsed_sections": []
    },
    "kernelspec": {
      "display_name": "Python 3",
      "name": "python3"
    }
  },
  "cells": [
    {
      "cell_type": "code",
      "metadata": {
        "id": "ovwGREHnpprr"
      },
      "source": [
        "import jax.numpy as jnp\n",
        "import jax\n",
        "from jax import experimental\n",
        "from jax.experimental import optimizers\n",
        "from jax import grad, jit, vmap\n",
        "from jax import random\n",
        "from scipy.special import jv\n",
        "import os\n",
        "import datetime\n",
        "import time\n",
        "import sys\n",
        "\n",
        "import numpy as np\n",
        "import pandas as pd\n",
        "import time\n",
        "import math\n",
        "from jax import device_put\n",
        "\n",
        "# Manuscript: \"Target Acoustic Field and Transducer State Optimization using Diff-PAT\"\n",
        "# Authors: Tatsuki Fushimi, Kenta Yamamoto, Yoichi Ochiai\n",
        "# Corresponding email: tfushimi@slis.tsukuba.ac.jp\n",
        "# JAX version 0.2.17"
      ],
      "execution_count": null,
      "outputs": []
    },
    {
      "cell_type": "code",
      "metadata": {
        "colab": {
          "base_uri": "https://localhost:8080/"
        },
        "id": "ZTpG44WGO7yt",
        "outputId": "f76545fb-e4a2-4256-a540-43e48bc01e5a"
      },
      "source": [
        "print(jax.__version__)"
      ],
      "execution_count": null,
      "outputs": [
        {
          "output_type": "stream",
          "text": [
            "0.2.17\n"
          ],
          "name": "stdout"
        }
      ]
    },
    {
      "cell_type": "code",
      "metadata": {
        "id": "5YkxYlZ2NpS8"
      },
      "source": [
        "import os\n",
        "if not os.path.exists('results'):\n",
        "    os.makedirs('results')"
      ],
      "execution_count": null,
      "outputs": []
    },
    {
      "cell_type": "code",
      "metadata": {
        "id": "RvWTa8VL-Ze4"
      },
      "source": [
        "N=16\n",
        "pitch=0.0105\n",
        "size=[N,N]\n",
        "tra_x = np.array([ (i % N - (N//2-0.5))*pitch for i in range(N * N)]).reshape(N, N)\n",
        "tra_y = tra_x.T\n",
        "tra_z = np.full((N,N), 0.0)\n",
        "P0=1.0\n",
        "l_ambda = 346.0 / 40000.0\n",
        "k = 2.0*math.pi/l_ambda\n",
        "r0 = 0.005\n",
        "dropping_threshold = 1000;\n",
        "\n",
        "if False:\n",
        "  np.savetxt('transducer_x.csv', np.array( [tra_x.T.ravel()] ).ravel(), delimiter=',')\n",
        "  np.savetxt('transducer_y.csv', np.array( [tra_y.T.ravel()] ).ravel(), delimiter=',')\n",
        "  np.savetxt('transducer_z.csv', np.array( [tra_z.T.ravel()] ).ravel(), delimiter=',')"
      ],
      "execution_count": null,
      "outputs": []
    },
    {
      "cell_type": "code",
      "metadata": {
        "id": "1o2uPqOCrKPG"
      },
      "source": [
        "# Pre-calculating propagation parts\n",
        "def prop_matrix(array_x, array_y, array_z, x_p, y_p, z_p, P0, k, r0):\n",
        "  prop = []\n",
        "  for xi in range(point_num):\n",
        "    dist_map = jnp.sqrt( jnp.power((array_x - x_p[xi]), 2) + jnp.power((array_y - y_p[xi]), 2) + jnp.power((array_z - z_p[xi]), 2) )\n",
        "\n",
        "    sin_alpha_map = jnp.sqrt( (jnp.power((array_x - x_p[xi]), 2) + jnp.power((array_y - y_p[xi]), 2)) ) / dist_map\n",
        "    sin_alpha_map = jnp.where(sin_alpha_map == 0, jax.numpy.finfo(jnp.float64).tiny, sin_alpha_map)\n",
        "\n",
        "    amplitude_map = ( 2 * jv(1, k*r0*sin_alpha_map) * P0 / (k*r0*sin_alpha_map*dist_map) )\n",
        "    prop.append( jax.lax.complex( amplitude_map * jnp.cos(k*dist_map), amplitude_map * jnp.sin(k*dist_map) ) )\n",
        "  \n",
        "  prop = device_put(jnp.array(prop))\n",
        "\n",
        "  return prop"
      ],
      "execution_count": null,
      "outputs": []
    },
    {
      "cell_type": "code",
      "metadata": {
        "id": "pdlZ7zT-naDq"
      },
      "source": [
        "# Three types of propagation mode, A - Phase, B - Amplitude, C - Phase and Amplitude\n",
        "@jit\n",
        "def Propagation_A(Tr):\n",
        "  part_A = Tr[0]\n",
        "  trans_amplitude = jax.lax.complex(jnp.ones(size), jnp.zeros(size))\n",
        "  trans_phase_copmlex = jax.lax.complex(jnp.cos(part_A), jnp.sin(part_A))\n",
        "  return trans_amplitude, trans_phase_copmlex\n",
        "\n",
        "@jit\n",
        "def Propagation_C(Tr):\n",
        "  part_A = Tr[0]\n",
        "  part_B = Tr[1]\n",
        "\n",
        "  tr_set = jax.lax.complex(part_A, part_B)\n",
        "  temp_amp = jnp.abs(tr_set);\n",
        "  temp_amp = temp_amp / jnp.max(temp_amp)\n",
        "    \n",
        "  trans_amplitude = jax.lax.complex(temp_amp, jnp.zeros(size))\n",
        "  trans_phase = jnp.angle(tr_set)\n",
        "  trans_phase_copmlex = jax.lax.complex(jnp.cos(trans_phase), jnp.sin(trans_phase))\n",
        "  return trans_amplitude, trans_phase_copmlex\n",
        "\n",
        "# Calculate Acoustic Pressure Field at the target point, output amplitude and phase. \n",
        "@jit \n",
        "def calculate_pressure(trans_amplitude, trans_phase_copmlex, transducer_prop, i):\n",
        "  point_Re = jnp.sum(jnp.real(trans_phase_copmlex) * jnp.real(trans_amplitude*transducer_prop[i]) - jnp.imag(trans_phase_copmlex) * jnp.imag(trans_amplitude*transducer_prop[i]))\n",
        "  point_Im = jnp.sum(jnp.real(trans_phase_copmlex) * jnp.imag(trans_amplitude*transducer_prop[i]) + jnp.imag(trans_phase_copmlex) * jnp.real(trans_amplitude*transducer_prop[i]))\n",
        "  point_amp = jnp.sqrt( point_Re ** 2 + point_Im ** 2 )\n",
        "  point_phase = jnp.angle(jax.lax.complex(point_Re, point_Im))\n",
        "  return point_amp, point_phase\n",
        "\n",
        "# Loss function depending on the target point state. i - Phase, ii - Amplitude, iii - Phase and Amplitude\n",
        "@jit\n",
        "def ErrFunc_ii(point_amp, target_amp):\n",
        "  err = (point_amp - target_amp)**2\n",
        "  return err"
      ],
      "execution_count": null,
      "outputs": []
    },
    {
      "cell_type": "code",
      "metadata": {
        "id": "JsRaL7iHye6w"
      },
      "source": [
        "@jit\n",
        "def loss_func_Aii(Tr, transducer_prop, target_amp):\n",
        "    trans_amplitude, trans_phase_copmlex = Propagation_A(Tr)\n",
        "    loss = 0\n",
        "    # Evaluating Loss Function\n",
        "    for i in range(point_num):\n",
        "      point_amp, point_phase = calculate_pressure(trans_amplitude, trans_phase_copmlex, transducer_prop, i)\n",
        "      err = ErrFunc_ii(point_amp, target_amp)\n",
        "      loss += (1/point_num)*(err)\n",
        "    return loss\n",
        "\n",
        "@jit\n",
        "def step_Aii(step, opt_state, transducer_prop, target_amp):\n",
        "  value, grads = jax.value_and_grad(loss_func_Aii)(get_params(opt_state), transducer_prop, target_amp)\n",
        "  opt_state = opt_update(step, grads, opt_state)\n",
        "  return value, opt_state"
      ],
      "execution_count": null,
      "outputs": []
    },
    {
      "cell_type": "code",
      "metadata": {
        "id": "DzONQDx9y-rS"
      },
      "source": [
        "@jit\n",
        "def loss_func_Cii(Tr, transducer_prop, target_amp):\n",
        "    trans_amplitude, trans_phase_copmlex = Propagation_C(Tr)\n",
        "    loss = 0\n",
        "    # Evaluating Loss Function\n",
        "    for i in range(point_num):\n",
        "      point_amp, point_phase = calculate_pressure(trans_amplitude, trans_phase_copmlex, transducer_prop, i)\n",
        "\n",
        "      err = ErrFunc_ii(point_amp, target_amp)\n",
        "      loss += (1/point_num)*(err)\n",
        "    return loss\n",
        "    \n",
        "@jit\n",
        "def step_Cii(step, opt_state, transducer_prop, target_amp):\n",
        "  value, grads = jax.value_and_grad(loss_func_Cii)(get_params(opt_state), transducer_prop, target_amp)\n",
        "  opt_state = opt_update(step, grads, opt_state)\n",
        "  return value, opt_state"
      ],
      "execution_count": null,
      "outputs": []
    },
    {
      "cell_type": "code",
      "metadata": {
        "id": "93pQvc-JZmes"
      },
      "source": [
        "# Main Loop\n",
        "point_num = 4\n",
        "x_p = [-0.05, -0.05, 0.05, 0.05]\n",
        "y_p = [-0.05, 0.05, 0.05, -0.05]\n",
        "z_p = [0.1, 0.1, 0.1, 0.1]\n",
        "\n",
        "transducer_prop = prop_matrix(tra_x, tra_y, tra_z, x_p, y_p, z_p, P0, k, r0)\n",
        "\n",
        "# Initialize tau\n",
        "target_amp=225.0"
      ],
      "execution_count": null,
      "outputs": []
    },
    {
      "cell_type": "code",
      "metadata": {
        "id": "ZVnlygIJv-1s"
      },
      "source": [
        "rng = np.random.default_rng(2021) # For reproducibility\n",
        "amplitude_all = []\n",
        "phase_all = []\n",
        "loss_all = []\n",
        "Tr_A = rng.random((size[0], size[1]))\n",
        "Tr = [Tr_A]\n",
        "# Initialize Optimizer\n",
        "opt_init, opt_update, get_params = jax.experimental.optimizers.adam(0.1, b1=0.9, b2=0.999, eps=1e-08)\n",
        "opt_state = opt_init(Tr)\n",
        "loss_list = []\n",
        "for st in range(dropping_threshold): # Bit messy to list the combination in if-loop, but JAX did not like conditionals passed on. \n",
        "  # Making static arguments inputs may improve the situation... \n",
        "  value, opt_state = step_Aii(st, opt_state, transducer_prop, target_amp)\n",
        "  loss_list.append(value)\n",
        "  \n",
        "# Exporting Data\n",
        "Tr = get_params(opt_state)    \n",
        "part_A = Tr[0]\n",
        "amplitude = jnp.ones(size)\n",
        "phase = part_A\n",
        "\n",
        "amplitude_exports = np.array(amplitude)\n",
        "phase_exports = np.array(phase)\n",
        "\n",
        "loss_all.append(np.array(loss_list))\n",
        "amplitude_all.append(np.array(amplitude_exports.T.ravel()).ravel())\n",
        "phase_all.append(np.array(phase_exports.T.ravel()).ravel())\n",
        "\n",
        "phase_1d_arr = np.array( phase_all )\n",
        "amp_1d_arr = np.array( amplitude_all )\n",
        "loss_1d_arr = np.array( loss_all )\n",
        "np.savetxt('results/Loss_exports_N_4_Trans_A_Target_ii_settings.csv', loss_1d_arr, delimiter=',')\n",
        "np.savetxt('results/Phase_exports_N_4_Trans_A_Target_ii_settings.csv', phase_1d_arr, delimiter=',')\n",
        "np.savetxt('results/Amplitude_exports_N_4_Trans_A_Target_ii_settings.csv', amp_1d_arr, delimiter=',')"
      ],
      "execution_count": null,
      "outputs": []
    },
    {
      "cell_type": "code",
      "metadata": {
        "id": "cT2TY88AZqOf"
      },
      "source": [
        "rng = np.random.default_rng(2021) # For reproducibility\n",
        "amplitude_all = []\n",
        "phase_all = []\n",
        "loss_all = []\n",
        "Tr_A = rng.random((size[0], size[1]))\n",
        "Tr_B = rng.random((size[0], size[1]))\n",
        "Tr = [Tr_A, Tr_B]\n",
        "# Initialize Optimizer\n",
        "opt_init, opt_update, get_params = jax.experimental.optimizers.adam(0.1, b1=0.9, b2=0.999, eps=1e-08)\n",
        "opt_state = opt_init(Tr)\n",
        "loss_list = []\n",
        "for st in range(dropping_threshold): # Bit messy to list the combination in if-loop, but JAX did not like conditionals passed on. \n",
        "  # Making static arguments inputs may improve the situation... \n",
        "  value, opt_state = step_Cii(st, opt_state, transducer_prop, target_amp)\n",
        "  loss_list.append(value)\n",
        "  \n",
        "# Exporting Data\n",
        "Tr = get_params(opt_state)    \n",
        "part_A = Tr[0]\n",
        "part_B = Tr[1]\n",
        "tr_set = jax.lax.complex(part_A, part_B)\n",
        "temp_amp = jnp.abs(tr_set);\n",
        "temp_amp = temp_amp / jnp.max(temp_amp) \n",
        "amplitude = temp_amp\n",
        "phase = jnp.angle(tr_set)\n",
        "\n",
        "amplitude_exports = np.array(amplitude)\n",
        "phase_exports = np.array(phase)\n",
        "\n",
        "loss_all.append(np.array(loss_list))\n",
        "amplitude_all.append(np.array(amplitude_exports.T.ravel()).ravel())\n",
        "phase_all.append(np.array(phase_exports.T.ravel()).ravel())\n",
        "\n",
        "phase_1d_arr = np.array( phase_all )\n",
        "amp_1d_arr = np.array( amplitude_all )\n",
        "loss_1d_arr = np.array( loss_all )\n",
        "np.savetxt('results/Loss_exports_N_4_Trans_C_Target_ii_settings.csv', loss_1d_arr, delimiter=',')\n",
        "np.savetxt('results/Phase_exports_N_4_Trans_C_Target_ii_settings.csv', phase_1d_arr, delimiter=',')\n",
        "np.savetxt('results/Amplitude_exports_N_4_Trans_C_Target_ii_settings.csv', amp_1d_arr, delimiter=',')"
      ],
      "execution_count": null,
      "outputs": []
    },
    {
      "cell_type": "code",
      "metadata": {
        "id": "AETaIB52wW6C",
        "colab": {
          "base_uri": "https://localhost:8080/"
        },
        "outputId": "5afee6cb-d91e-40b0-9851-c1eb82be89db"
      },
      "source": [
        "!zip -r /content/colab_results.zip /content/results/"
      ],
      "execution_count": null,
      "outputs": [
        {
          "output_type": "stream",
          "text": [
            "updating: content/results/ (stored 0%)\n",
            "updating: content/results/Phase_exports_N_4_Trans_C_Target_ii_settings.csv (deflated 55%)\n",
            "updating: content/results/Phase_exports_N_4_Trans_A_Target_ii_settings.csv (deflated 54%)\n",
            "updating: content/results/Amplitude_exports_N_4_Trans_A_Target_ii_settings.csv (deflated 99%)\n",
            "updating: content/results/Loss_exports_N_4_Trans_A_Target_ii_settings.csv (deflated 71%)\n",
            "updating: content/results/Amplitude_exports_N_4_Trans_C_Target_ii_settings.csv (deflated 56%)\n",
            "updating: content/results/Loss_exports_N_4_Trans_C_Target_ii_settings.csv (deflated 84%)\n"
          ],
          "name": "stdout"
        }
      ]
    }
  ]
}